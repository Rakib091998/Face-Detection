{
 "cells": [
  {
   "cell_type": "code",
   "execution_count": 26,
   "metadata": {},
   "outputs": [
    {
     "name": "stdout",
     "output_type": "stream",
     "text": [
      "<class 'numpy.ndarray'>\n",
      "[[246 234  59  59]\n",
      " [340 239  54  54]\n",
      " [119  75  25  25]\n",
      " [291 326  23  23]\n",
      " [524 102  23  23]\n",
      " [456 202  83  83]]\n"
     ]
    },
    {
     "ename": "AttributeError",
     "evalue": "module 'cv2.cv2' has no attribute 'destroyAllwindows'",
     "output_type": "error",
     "traceback": [
      "\u001b[1;31m---------------------------------------------------------------------------\u001b[0m",
      "\u001b[1;31mAttributeError\u001b[0m                            Traceback (most recent call last)",
      "\u001b[1;32m<ipython-input-26-3abd1c299668>\u001b[0m in \u001b[0;36m<module>\u001b[1;34m\u001b[0m\n\u001b[0;32m     18\u001b[0m \u001b[1;33m\u001b[0m\u001b[0m\n\u001b[0;32m     19\u001b[0m \u001b[0mcv2\u001b[0m\u001b[1;33m.\u001b[0m\u001b[0mwaitKey\u001b[0m\u001b[1;33m(\u001b[0m\u001b[1;36m0\u001b[0m\u001b[1;33m)\u001b[0m\u001b[1;33m\u001b[0m\u001b[1;33m\u001b[0m\u001b[0m\n\u001b[1;32m---> 20\u001b[1;33m \u001b[0mcv2\u001b[0m\u001b[1;33m.\u001b[0m\u001b[0mdestroyAllwindows\u001b[0m\u001b[1;33m(\u001b[0m\u001b[1;33m)\u001b[0m\u001b[1;33m\u001b[0m\u001b[1;33m\u001b[0m\u001b[0m\n\u001b[0m",
      "\u001b[1;31mAttributeError\u001b[0m: module 'cv2.cv2' has no attribute 'destroyAllwindows'"
     ]
    }
   ],
   "source": [
    "import cv2 \n",
    "face_cascade = cv2.CascadeClassifier(\"haarcascade_frontalface_default.xml\")\n",
    "face_cascade = cv2.CascadeClassifier(\"haarcascade_eye.xml\")\n",
    "\n",
    "img = cv2.imread(\"a.jpg\")\n",
    "\n",
    "gray_img =cv2.cvtColor(img,cv2.COLOR_BGR2GRAY) \n",
    "\n",
    "faces = face_cascade.detectMultiScale(gray_img, scaleFactor = 1.05, minNeighbors=5) \n",
    "print(type(faces)) \n",
    "print(faces)\n",
    "\n",
    "\n",
    "for x,y,w,h in faces:\n",
    "    img=cv2.rectangle(img, (x,y), (x+w,y+h),(0,255,0),3)\n",
    "\n",
    "cv2.imshow(\"Gray\", img)\n",
    "\n",
    "cv2.waitKey(0)\n",
    "cv2.destroyAllwindows()"
   ]
  },
  {
   "cell_type": "code",
   "execution_count": null,
   "metadata": {},
   "outputs": [],
   "source": []
  }
 ],
 "metadata": {
  "kernelspec": {
   "display_name": "Python 3",
   "language": "python",
   "name": "python3"
  },
  "language_info": {
   "codemirror_mode": {
    "name": "ipython",
    "version": 3
   },
   "file_extension": ".py",
   "mimetype": "text/x-python",
   "name": "python",
   "nbconvert_exporter": "python",
   "pygments_lexer": "ipython3",
   "version": "3.7.4"
  }
 },
 "nbformat": 4,
 "nbformat_minor": 2
}
